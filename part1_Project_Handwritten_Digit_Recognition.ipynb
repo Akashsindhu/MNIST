{
  "nbformat": 4,
  "nbformat_minor": 0,
  "metadata": {
    "colab": {
      "name": "part1:Project_Handwritten_Digit_Recognition.ipynb",
      "provenance": [],
      "collapsed_sections": [],
      "include_colab_link": true
    },
    "kernelspec": {
      "name": "python3",
      "display_name": "Python 3"
    },
    "accelerator": "GPU"
  },
  "cells": [
    {
      "cell_type": "markdown",
      "metadata": {
        "id": "view-in-github",
        "colab_type": "text"
      },
      "source": [
        "<a href=\"https://colab.research.google.com/github/Akashsindhu/MNIST/blob/master/part1_Project_Handwritten_Digit_Recognition.ipynb\" target=\"_parent\"><img src=\"https://colab.research.google.com/assets/colab-badge.svg\" alt=\"Open In Colab\"/></a>"
      ]
    },
    {
      "cell_type": "markdown",
      "metadata": {
        "id": "M8RezSp5FxAH",
        "colab_type": "text"
      },
      "source": [
        "A ConvNet is able to successfully capture the Spatial and Temporal dependencies in an image through the application of relevant filters."
      ]
    },
    {
      "cell_type": "code",
      "metadata": {
        "id": "I-DI1533cVQe",
        "colab_type": "code",
        "outputId": "c11bc39e-9bc2-4b91-e97d-070d7f39d67f",
        "colab": {
          "base_uri": "https://localhost:8080/",
          "height": 114
        }
      },
      "source": [
        "from keras.datasets import mnist\n",
        "import matplotlib.pyplot as plt\n",
        "# download the dataset\n",
        "(x_train, y_train), (x_test, y_test) = mnist.load_data()"
      ],
      "execution_count": 1,
      "outputs": [
        {
          "output_type": "stream",
          "text": [
            "Using TensorFlow backend.\n"
          ],
          "name": "stderr"
        },
        {
          "output_type": "display_data",
          "data": {
            "text/html": [
              "<p style=\"color: red;\">\n",
              "The default version of TensorFlow in Colab will soon switch to TensorFlow 2.x.<br>\n",
              "We recommend you <a href=\"https://www.tensorflow.org/guide/migrate\" target=\"_blank\">upgrade</a> now \n",
              "or ensure your notebook will continue to use TensorFlow 1.x via the <code>%tensorflow_version 1.x</code> magic:\n",
              "<a href=\"https://colab.research.google.com/notebooks/tensorflow_version.ipynb\" target=\"_blank\">more info</a>.</p>\n"
            ],
            "text/plain": [
              "<IPython.core.display.HTML object>"
            ]
          },
          "metadata": {
            "tags": []
          }
        },
        {
          "output_type": "stream",
          "text": [
            "Downloading data from https://s3.amazonaws.com/img-datasets/mnist.npz\n",
            "11493376/11490434 [==============================] - 1s 0us/step\n"
          ],
          "name": "stdout"
        }
      ]
    },
    {
      "cell_type": "code",
      "metadata": {
        "id": "Hm9s1Pb-em3z",
        "colab_type": "code",
        "outputId": "19c87449-bd51-4aea-8710-6feb809cacd5",
        "colab": {
          "base_uri": "https://localhost:8080/",
          "height": 268
        }
      },
      "source": [
        "# plot 4 images as grayscale \n",
        "plt.subplot(221)\n",
        "plt.imshow(x_train[0], cmap=plt.get_cmap('gray'))\n",
        "plt.subplot(222)\n",
        "plt.imshow(x_train[1], cmap=plt.get_cmap('gray'))\n",
        "plt.subplot(223)\n",
        "plt.imshow(x_train[2], cmap=plt.get_cmap('gray'))\n",
        "plt.subplot(224)\n",
        "plt.imshow(x_train[3], cmap=plt.get_cmap('gray'))\n",
        "plt.show()"
      ],
      "execution_count": 2,
      "outputs": [
        {
          "output_type": "display_data",
          "data": {
            "image/png": "[encoded data removed]",
            "text/plain": [
              "<Figure size 432x288 with 4 Axes>"
            ]
          },
          "metadata": {
            "tags": []
          }
        }
      ]
    },
    {
      "cell_type": "markdown",
      "metadata": {
        "id": "hHFqfTzpgCtX",
        "colab_type": "text"
      },
      "source": [
        "we can achieve good accuracy and error rate of 1.74% with baseline neural network. we will use this to compare with CNN."
      ]
    },
    {
      "cell_type": "code",
      "metadata": {
        "id": "qy30XDG7fbxz",
        "colab_type": "code",
        "outputId": "9ca55e94-de79-49c3-f3a9-bb0b79713d77",
        "colab": {
          "base_uri": "https://localhost:8080/",
          "height": 85
        }
      },
      "source": [
        "import numpy as np\n",
        "from keras.models import Sequential\n",
        "from keras.layers import Dense \n",
        "from keras.layers import Dropout \n",
        "from keras.utils import np_utils\n",
        "\n",
        "seed = 7\n",
        "np.random.seed(seed)\n",
        "\n",
        "\n",
        "print(x_train.shape)\n",
        "print(x_test.shape)\n",
        "print(y_train.shape)\n",
        "print(y_test.shape)"
      ],
      "execution_count": 3,
      "outputs": [
        {
          "output_type": "stream",
          "text": [
            "(60000, 28, 28)\n",
            "(10000, 28, 28)\n",
            "(60000,)\n",
            "(10000,)\n"
          ],
          "name": "stdout"
        }
      ]
    },
    {
      "cell_type": "code",
      "metadata": {
        "id": "RyAgER4Ugw6Q",
        "colab_type": "code",
        "colab": {}
      },
      "source": [
        "# flatten 28x28 images to 784 vector for each image \n",
        "num_pixels = x_train.shape[1] * x_train.shape[2]\n",
        "x_train = x_train.reshape(x_train.shape[0], num_pixels).astype(float)\n",
        "\n",
        "x_test = x_test.reshape(x_test.shape[0], num_pixels).astype(float)"
      ],
      "execution_count": 0,
      "outputs": []
    },
    {
      "cell_type": "code",
      "metadata": {
        "id": "Y8iB9-yDg1h7",
        "colab_type": "code",
        "colab": {}
      },
      "source": [
        "# normalize the pixel values from 0-255 to 0-1\n",
        "x_train = x_train/255\n",
        "x_test = x_test/255\n"
      ],
      "execution_count": 0,
      "outputs": []
    },
    {
      "cell_type": "code",
      "metadata": {
        "id": "Yano8_5peOCs",
        "colab_type": "code",
        "outputId": "c5a83347-55c3-4b39-af80-76cf42213f78",
        "colab": {
          "base_uri": "https://localhost:8080/",
          "height": 51
        }
      },
      "source": [
        "# when 1D array use np_utils instead of onehotencoding \n",
        "# reference: https://stackoverflow.com/questions/41494625/issues-using-keras-np-utils-to-categorical\n",
        "# output variable are integer from 0 to 9 so, we need to convert them in 0 and 1 \n",
        "y_train = np_utils.to_categorical(y_train)\n",
        "y_test = np_utils.to_categorical(y_test)\n",
        "print(y_test.shape)\n",
        "num_classes = y_test.shape[1]\n",
        "print(num_classes)\n",
        "# print(y_train)\n",
        "# print(y_test)"
      ],
      "execution_count": 6,
      "outputs": [
        {
          "output_type": "stream",
          "text": [
            "(10000, 10)\n",
            "10\n"
          ],
          "name": "stdout"
        }
      ]
    },
    {
      "cell_type": "code",
      "metadata": {
        "id": "WhtnaIkzknU_",
        "colab_type": "code",
        "colab": {}
      },
      "source": [
        "def baseline_model():\n",
        "  model = Sequential()\n",
        "  model.add(Dense(num_pixels, input_dim = num_pixels, kernel_initializer='normal', activation='relu'))\n",
        "  model.add(Dense(num_classes, kernel_initializer='normal', activation='softmax'))\n",
        "  \n",
        "  model.compile(loss='categorical_crossentropy', optimizer='adam', metrics=['accuracy'])\n",
        "  return model \n",
        "\n"
      ],
      "execution_count": 0,
      "outputs": []
    },
    {
      "cell_type": "markdown",
      "metadata": {
        "id": "kT3-05-3hYxX",
        "colab_type": "text"
      },
      "source": [
        ""
      ]
    },
    {
      "cell_type": "code",
      "metadata": {
        "id": "ADxRnQvReDQY",
        "colab_type": "code",
        "outputId": "3ef52ae8-6b93-4924-aa92-f5288143db3e",
        "colab": {
          "base_uri": "https://localhost:8080/",
          "height": 389
        }
      },
      "source": [
        "model = baseline_model()\n",
        "model.fit(x_train, y_train, validation_data=(x_test, y_test), epochs=10, batch_size=200, verbose=2)\n",
        "loss, accu = model.evaluate(x_test, y_test, verbose = 2)\n",
        "print(\"Baseline accuracy: %.2f%%\" % (accu*100))"
      ],
      "execution_count": 9,
      "outputs": [
        {
          "output_type": "stream",
          "text": [
            "Train on 60000 samples, validate on 10000 samples\n",
            "Epoch 1/10\n",
            " - 1s - loss: 0.2793 - acc: 0.9190 - val_loss: 0.1427 - val_acc: 0.9590\n",
            "Epoch 2/10\n",
            " - 1s - loss: 0.1097 - acc: 0.9680 - val_loss: 0.0930 - val_acc: 0.9720\n",
            "Epoch 3/10\n",
            " - 1s - loss: 0.0708 - acc: 0.9797 - val_loss: 0.0770 - val_acc: 0.9764\n",
            "Epoch 4/10\n",
            " - 1s - loss: 0.0499 - acc: 0.9851 - val_loss: 0.0707 - val_acc: 0.9779\n",
            "Epoch 5/10\n",
            " - 1s - loss: 0.0360 - acc: 0.9895 - val_loss: 0.0675 - val_acc: 0.9790\n",
            "Epoch 6/10\n",
            " - 1s - loss: 0.0250 - acc: 0.9934 - val_loss: 0.0658 - val_acc: 0.9792\n",
            "Epoch 7/10\n",
            " - 1s - loss: 0.0193 - acc: 0.9949 - val_loss: 0.0589 - val_acc: 0.9799\n",
            "Epoch 8/10\n",
            " - 1s - loss: 0.0144 - acc: 0.9966 - val_loss: 0.0567 - val_acc: 0.9823\n",
            "Epoch 9/10\n",
            " - 1s - loss: 0.0117 - acc: 0.9973 - val_loss: 0.0654 - val_acc: 0.9809\n",
            "Epoch 10/10\n",
            " - 1s - loss: 0.0079 - acc: 0.9985 - val_loss: 0.0575 - val_acc: 0.9824\n",
            "Baseline accuracy: 98.24%\n"
          ],
          "name": "stdout"
        }
      ]
    },
    {
      "cell_type": "code",
      "metadata": {
        "id": "_0wS2zb-nWWC",
        "colab_type": "code",
        "colab": {}
      },
      "source": [
        ""
      ],
      "execution_count": 0,
      "outputs": []
    },
    {
      "cell_type": "code",
      "metadata": {
        "id": "iXG0KVaGn17x",
        "colab_type": "code",
        "colab": {}
      },
      "source": [
        ""
      ],
      "execution_count": 0,
      "outputs": []
    }
  ]
}